{
 "cells": [
  {
   "cell_type": "markdown",
   "metadata": {},
   "source": [
    "# Игра угадай число"
   ]
  },
  {
   "cell_type": "markdown",
   "metadata": {},
   "source": [
    "Нужно написать программу, которая угадывает загаданное компьютером число за минимальное количество попыток."
   ]
  },
  {
   "cell_type": "markdown",
   "metadata": {},
   "source": [
    "#### Условия задания\n",
    "\n",
    " - Компьютер загадывает целое число от 1 до 100, и нам его нужно угадать. Под «угадать» подразумевается «написать программу, которая угадывает число».\n",
    " - Алгоритм учитывает информацию о том, больше или меньше случайное число нужного нам числа.\n",
    " - Необходимо добиться, чтобы программа угадывала число меньше, чем за 20 попыток"
   ]
  },
  {
   "cell_type": "markdown",
   "metadata": {},
   "source": [
    "Импортируем необходимые библиотеки и функции:\n"
   ]
  },
  {
   "cell_type": "code",
   "execution_count": 1,
   "metadata": {},
   "outputs": [],
   "source": [
    "from game_v2 import score_game\n",
    "from game_v2 import random_predict\n",
    "import numpy as np"
   ]
  },
  {
   "cell_type": "markdown",
   "metadata": {},
   "source": [
    "## Угадываем рандомно"
   ]
  },
  {
   "cell_type": "markdown",
   "metadata": {},
   "source": [
    "Простейший способ решения, научить программу случанайным образом выбирать число до тех пор, пока оно не будет угадано, этот способ не дает хорошего результата и является стартовой точкой для написания следующих алгоритмов. "
   ]
  },
  {
   "cell_type": "code",
   "execution_count": 4,
   "metadata": {},
   "outputs": [
    {
     "name": "stdout",
     "output_type": "stream",
     "text": [
      "Ваш алгоритм угадывает число в среднем за:103 попыток\n"
     ]
    },
    {
     "data": {
      "text/plain": [
       "103"
      ]
     },
     "execution_count": 4,
     "metadata": {},
     "output_type": "execute_result"
    }
   ],
   "source": [
    "score_game(random_predict) "
   ]
  },
  {
   "cell_type": "markdown",
   "metadata": {},
   "source": [
    "Алгоритм работает не оптимально "
   ]
  },
  {
   "cell_type": "markdown",
   "metadata": {},
   "source": [
    "## Угадываем с коррекцией "
   ]
  },
  {
   "cell_type": "markdown",
   "metadata": {},
   "source": [
    "Улучшаем функцию для поиска. Устанавливаем любое случайное число, а затем его уменьшаем или увеличиваем, в зависимости от того, больше оно или меньше от загаданного числа. "
   ]
  },
  {
   "cell_type": "code",
   "execution_count": 5,
   "metadata": {},
   "outputs": [],
   "source": [
    "def game_v2_corr(number: int = 1) -> int:\n",
    "    \"\"\"Функция устанавливает любое random-число, \n",
    "    затем в зависимости от условия увеличивает \n",
    "    или уменьшает до поиска загаданного числа\n",
    "\n",
    "    Args:\n",
    "        number (int, optional): Загаданное число. Defaults to 1.\n",
    "\n",
    "    Returns:\n",
    "        int: Число попыток\n",
    "    \"\"\"\n",
    "    count = 0\n",
    "    predict_number = np.random.randint(1, 101)\n",
    "    while number != predict_number:\n",
    "        count += 1\n",
    "        if number>predict_number:\n",
    "            predict_number+=1\n",
    "        elif number<predict_number:\n",
    "            predict_number-=1    \n",
    "    return count"
   ]
  },
  {
   "cell_type": "code",
   "execution_count": 6,
   "metadata": {},
   "outputs": [
    {
     "name": "stdout",
     "output_type": "stream",
     "text": [
      "Ваш алгоритм угадывает число в среднем за:34 попыток\n"
     ]
    },
    {
     "data": {
      "text/plain": [
       "34"
      ]
     },
     "execution_count": 6,
     "metadata": {},
     "output_type": "execute_result"
    }
   ],
   "source": [
    "score_game(game_v2_corr)"
   ]
  },
  {
   "cell_type": "markdown",
   "metadata": {},
   "source": [
    "Две предложенные функции не показывают лучший результат"
   ]
  },
  {
   "cell_type": "markdown",
   "metadata": {},
   "source": [
    "## Бинарный поиск"
   ]
  },
  {
   "cell_type": "markdown",
   "metadata": {},
   "source": [
    "Решили использовать алгоритм бинарного поиска для более оптимального решения задачи, чтобы оптимизировать количество попыток до 20 и менее."
   ]
  },
  {
   "cell_type": "code",
   "execution_count": 7,
   "metadata": {},
   "outputs": [],
   "source": [
    "def game_v3_corr(number: int = 1) -> int:\n",
    "    \"\"\"Функция устанавливает диапазон угадывания числа от 1 до 100,\n",
    "    осуществляя алгоритм бинарного поиска\n",
    "\n",
    "    Args:\n",
    "        number (int, optional): Загаданное число. Defaults to 1.\n",
    "\n",
    "    Returns:\n",
    "        int: Число попыток\n",
    "    \"\"\"\n",
    "    #Объявляем переменные для обозначения диапазона и счетчик\n",
    "    low = 1\n",
    "    up = 100\n",
    "    count = 0\n",
    "\n",
    "    while low<=up:  #цикл угадывания\n",
    "        x=(low+up)//2 #алгоритм бинрного поиска\n",
    "        count += 1 #счетчик попыток\n",
    "        if x==number: #удачная попытка\n",
    "            break\n",
    "        elif x>number: #неудачная попытка, загаданное число оказалось больше\n",
    "            up=x-1\n",
    "        elif x<number: #неудачная попытка, загаданное число оказалось меньше\n",
    "            low=x+1    \n",
    "    return count #возвращаем количество попыток"
   ]
  },
  {
   "cell_type": "code",
   "execution_count": 8,
   "metadata": {},
   "outputs": [
    {
     "name": "stdout",
     "output_type": "stream",
     "text": [
      "Ваш алгоритм угадывает число в среднем за:5 попыток\n"
     ]
    },
    {
     "data": {
      "text/plain": [
       "5"
      ]
     },
     "execution_count": 8,
     "metadata": {},
     "output_type": "execute_result"
    }
   ],
   "source": [
    "score_game(game_v3_corr)"
   ]
  },
  {
   "cell_type": "markdown",
   "metadata": {},
   "source": [
    "Усовершенствовали свой алгоритм и добились результата в размере попыток, сократив его до 5."
   ]
  }
 ],
 "metadata": {
  "kernelspec": {
   "display_name": "Python 3",
   "language": "python",
   "name": "python3"
  },
  "language_info": {
   "codemirror_mode": {
    "name": "ipython",
    "version": 3
   },
   "file_extension": ".py",
   "mimetype": "text/x-python",
   "name": "python",
   "nbconvert_exporter": "python",
   "pygments_lexer": "ipython3",
   "version": "3.12.6"
  },
  "orig_nbformat": 4
 },
 "nbformat": 4,
 "nbformat_minor": 2
}
